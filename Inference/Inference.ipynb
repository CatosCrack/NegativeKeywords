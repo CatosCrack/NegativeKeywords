{
 "cells": [
  {
   "cell_type": "code",
   "execution_count": 26,
   "id": "98accd50-e824-4393-880f-7a6df2fe8d15",
   "metadata": {},
   "outputs": [],
   "source": [
    "import torch\n",
    "from CustomSequential import CustomSequential"
   ]
  },
  {
   "cell_type": "code",
   "execution_count": 2,
   "id": "db9fafa1-6b36-4800-b9c3-6334a716a8f0",
   "metadata": {},
   "outputs": [
    {
     "name": "stderr",
     "output_type": "stream",
     "text": [
      "2024-03-23 02:29:07.797683: I tensorflow/core/platform/cpu_feature_guard.cc:182] This TensorFlow binary is optimized to use available CPU instructions in performance-critical operations.\n",
      "To enable the following instructions: SSE4.1 SSE4.2 AVX AVX2 AVX512F FMA, in other operations, rebuild TensorFlow with the appropriate compiler flags.\n"
     ]
    },
    {
     "name": "stdout",
     "output_type": "stream",
     "text": [
      "dict_keys(['model', 'state_dict', 'tokenizer', 'tokenizer_length', 'class_labels'])\n"
     ]
    }
   ],
   "source": [
    "checkpoint = torch.load(\"model_final.pth\")\n",
    "print(checkpoint.keys())"
   ]
  },
  {
   "cell_type": "code",
   "execution_count": 3,
   "id": "876d1e7a-8e31-4d85-b2b8-64987e27ae14",
   "metadata": {},
   "outputs": [
    {
     "data": {
      "text/plain": [
       "<All keys matched successfully>"
      ]
     },
     "execution_count": 3,
     "metadata": {},
     "output_type": "execute_result"
    }
   ],
   "source": [
    "model = checkpoint[\"model\"]\n",
    "tokenizer = checkpoint[\"tokenizer\"]\n",
    "max_length = checkpoint[\"tokenizer_length\"]\n",
    "label_map = checkpoint[\"class_labels\"]\n",
    "\n",
    "model.load_state_dict(checkpoint[\"state_dict\"])"
   ]
  },
  {
   "cell_type": "code",
   "execution_count": 43,
   "id": "6d995221-4d37-4ec0-b38f-1144566ccf6f",
   "metadata": {},
   "outputs": [
    {
     "name": "stdout",
     "output_type": "stream",
     "text": [
      "<s>roofer</s></s>roofers near me</s><pad><pad><pad><pad><pad><pad><pad><pad><pad><pad><pad><pad><pad>\n"
     ]
    }
   ],
   "source": [
    "term = \"roofer\"\n",
    "keyword = \"roofers near me\"\n",
    "\n",
    "input_tokens = tokenizer(term,\n",
    "                         keyword, \n",
    "                         padding=\"max_length\", \n",
    "                         truncation=True, \n",
    "                         max_length=max_length, \n",
    "                         return_tensors=\"pt\")\n",
    "\n",
    "print(tokenizer.decode(input_tokens.input_ids[0]))"
   ]
  },
  {
   "cell_type": "code",
   "execution_count": 44,
   "id": "65415ca8-182f-44ef-a071-74f480bc7859",
   "metadata": {},
   "outputs": [
    {
     "name": "stdout",
     "output_type": "stream",
     "text": [
      "tensor([[0.5815, 0.4185]])\n",
      "['None']\n"
     ]
    }
   ],
   "source": [
    "# Output\n",
    "output = model(input_tokens.input_ids, input_tokens.attention_mask)\n",
    "print(torch.softmax(output.logits, dim=1))\n",
    "_, prediction = torch.max(output.logits, 1)\n",
    "prediction = [label_map[pred.item()] for pred in prediction]\n",
    "print(prediction)"
   ]
  },
  {
   "cell_type": "code",
   "execution_count": null,
   "id": "702b7f76-bf64-4d8d-b75b-50e7f241eaa0",
   "metadata": {},
   "outputs": [],
   "source": []
  }
 ],
 "metadata": {
  "kernelspec": {
   "display_name": "Python 3 (ipykernel)",
   "language": "python",
   "name": "python3"
  },
  "language_info": {
   "codemirror_mode": {
    "name": "ipython",
    "version": 3
   },
   "file_extension": ".py",
   "mimetype": "text/x-python",
   "name": "python",
   "nbconvert_exporter": "python",
   "pygments_lexer": "ipython3",
   "version": "3.10.13"
  }
 },
 "nbformat": 4,
 "nbformat_minor": 5
}
